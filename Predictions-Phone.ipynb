{
 "cells": [
  {
   "cell_type": "markdown",
   "metadata": {},
   "source": [
    "# Precision Phone Predictions\n",
    "\n",
    "You have recently been brought on as a business analyst in a startup developing new cell phones. There are three new devices that they're in the process of designing, and the team needs to be able to appropriately price the hardware based on its technical specifications. Someone on the team has already done the work of grouping prices into a set of classes for devices currently available in the market. They were also _very_ kind and have already cleaned your data. However, they need your help to develop a model that will allow the the team to _predict_ a value for the new prototypes. \n",
    "\n",
    "Your goals for this investigation will be to:\n",
    "- Create a model for predicting the price range based on the technical features of the devices\n",
    "- Determine which features have the highest weighting in determining the price of devices\n",
    "- Make predictions for the new prototypes' price ranges\n",
    "\n",
    "The classes for the price ranges of the phone correlate to:\n",
    "\n",
    "- 0: 0 - 600\n",
    "- 1: 601 - 1200 \n",
    "- 2: 1201 - 1800\n",
    "- 3: 1800+\n",
    "\n",
    "In the process of finding an appropriate model, we will create two: a random forest classifier, as well as a support vector classifier."
   ]
  },
  {
   "cell_type": "markdown",
   "metadata": {},
   "source": [
    "## Random Forest Model "
   ]
  },
  {
   "cell_type": "markdown",
   "metadata": {},
   "source": [
    "### Data Preprocessing\n",
    "\n",
    "To get started, we'll need to input the data which we will use to train and test our model, as well as conduct the appropriate separation of data for our features and targets.\n",
    "\n",
    "- Import `data.csv` using .read_csv(), and preview your data using `.head()`\n",
    "- Create the `y` target variable by selecting the \"price_range\" column\n",
    "- Create the `X` features variable by using `.drop()` and passing the \"price_range\" columns as the `columns` argument.\n",
    "- Split your data into the training and testing sets using `.train_test_split()` and assigning values for `X_train, X_test, y_train, and y_test`"
   ]
  },
  {
   "cell_type": "code",
   "execution_count": 1,
   "metadata": {},
   "outputs": [],
   "source": [
    "# Libraries Needed\n",
    "import pandas as pd\n",
    "from sklearn.ensemble import RandomForestClassifier\n",
    "from sklearn.model_selection import train_test_split\n",
    "from sklearn.metrics import classification_report"
   ]
  },
  {
   "cell_type": "code",
   "execution_count": 2,
   "metadata": {},
   "outputs": [
    {
     "data": {
      "text/html": [
       "<div>\n",
       "<style scoped>\n",
       "    .dataframe tbody tr th:only-of-type {\n",
       "        vertical-align: middle;\n",
       "    }\n",
       "\n",
       "    .dataframe tbody tr th {\n",
       "        vertical-align: top;\n",
       "    }\n",
       "\n",
       "    .dataframe thead th {\n",
       "        text-align: right;\n",
       "    }\n",
       "</style>\n",
       "<table border=\"1\" class=\"dataframe\">\n",
       "  <thead>\n",
       "    <tr style=\"text-align: right;\">\n",
       "      <th></th>\n",
       "      <th>battery_power</th>\n",
       "      <th>blue</th>\n",
       "      <th>clock_speed</th>\n",
       "      <th>dual_sim</th>\n",
       "      <th>fc</th>\n",
       "      <th>four_g</th>\n",
       "      <th>int_memory</th>\n",
       "      <th>m_dep</th>\n",
       "      <th>mobile_wt</th>\n",
       "      <th>n_cores</th>\n",
       "      <th>...</th>\n",
       "      <th>px_height</th>\n",
       "      <th>px_width</th>\n",
       "      <th>ram</th>\n",
       "      <th>sc_h</th>\n",
       "      <th>sc_w</th>\n",
       "      <th>talk_time</th>\n",
       "      <th>three_g</th>\n",
       "      <th>touch_screen</th>\n",
       "      <th>wifi</th>\n",
       "      <th>price_range</th>\n",
       "    </tr>\n",
       "  </thead>\n",
       "  <tbody>\n",
       "    <tr>\n",
       "      <th>0</th>\n",
       "      <td>842</td>\n",
       "      <td>0</td>\n",
       "      <td>2.2</td>\n",
       "      <td>0</td>\n",
       "      <td>1</td>\n",
       "      <td>0</td>\n",
       "      <td>7</td>\n",
       "      <td>0.6</td>\n",
       "      <td>188</td>\n",
       "      <td>2</td>\n",
       "      <td>...</td>\n",
       "      <td>20</td>\n",
       "      <td>756</td>\n",
       "      <td>2549</td>\n",
       "      <td>9</td>\n",
       "      <td>7</td>\n",
       "      <td>19</td>\n",
       "      <td>0</td>\n",
       "      <td>0</td>\n",
       "      <td>1</td>\n",
       "      <td>1</td>\n",
       "    </tr>\n",
       "    <tr>\n",
       "      <th>1</th>\n",
       "      <td>1021</td>\n",
       "      <td>1</td>\n",
       "      <td>0.5</td>\n",
       "      <td>1</td>\n",
       "      <td>0</td>\n",
       "      <td>1</td>\n",
       "      <td>53</td>\n",
       "      <td>0.7</td>\n",
       "      <td>136</td>\n",
       "      <td>3</td>\n",
       "      <td>...</td>\n",
       "      <td>905</td>\n",
       "      <td>1988</td>\n",
       "      <td>2631</td>\n",
       "      <td>17</td>\n",
       "      <td>3</td>\n",
       "      <td>7</td>\n",
       "      <td>1</td>\n",
       "      <td>1</td>\n",
       "      <td>0</td>\n",
       "      <td>2</td>\n",
       "    </tr>\n",
       "    <tr>\n",
       "      <th>2</th>\n",
       "      <td>563</td>\n",
       "      <td>1</td>\n",
       "      <td>0.5</td>\n",
       "      <td>1</td>\n",
       "      <td>2</td>\n",
       "      <td>1</td>\n",
       "      <td>41</td>\n",
       "      <td>0.9</td>\n",
       "      <td>145</td>\n",
       "      <td>5</td>\n",
       "      <td>...</td>\n",
       "      <td>1263</td>\n",
       "      <td>1716</td>\n",
       "      <td>2603</td>\n",
       "      <td>11</td>\n",
       "      <td>2</td>\n",
       "      <td>9</td>\n",
       "      <td>1</td>\n",
       "      <td>1</td>\n",
       "      <td>0</td>\n",
       "      <td>2</td>\n",
       "    </tr>\n",
       "    <tr>\n",
       "      <th>3</th>\n",
       "      <td>615</td>\n",
       "      <td>1</td>\n",
       "      <td>2.5</td>\n",
       "      <td>0</td>\n",
       "      <td>0</td>\n",
       "      <td>0</td>\n",
       "      <td>10</td>\n",
       "      <td>0.8</td>\n",
       "      <td>131</td>\n",
       "      <td>6</td>\n",
       "      <td>...</td>\n",
       "      <td>1216</td>\n",
       "      <td>1786</td>\n",
       "      <td>2769</td>\n",
       "      <td>16</td>\n",
       "      <td>8</td>\n",
       "      <td>11</td>\n",
       "      <td>1</td>\n",
       "      <td>0</td>\n",
       "      <td>0</td>\n",
       "      <td>2</td>\n",
       "    </tr>\n",
       "    <tr>\n",
       "      <th>4</th>\n",
       "      <td>1821</td>\n",
       "      <td>1</td>\n",
       "      <td>1.2</td>\n",
       "      <td>0</td>\n",
       "      <td>13</td>\n",
       "      <td>1</td>\n",
       "      <td>44</td>\n",
       "      <td>0.6</td>\n",
       "      <td>141</td>\n",
       "      <td>2</td>\n",
       "      <td>...</td>\n",
       "      <td>1208</td>\n",
       "      <td>1212</td>\n",
       "      <td>1411</td>\n",
       "      <td>8</td>\n",
       "      <td>2</td>\n",
       "      <td>15</td>\n",
       "      <td>1</td>\n",
       "      <td>1</td>\n",
       "      <td>0</td>\n",
       "      <td>1</td>\n",
       "    </tr>\n",
       "  </tbody>\n",
       "</table>\n",
       "<p>5 rows × 21 columns</p>\n",
       "</div>"
      ],
      "text/plain": [
       "   battery_power  blue  clock_speed  dual_sim  fc  four_g  int_memory  m_dep  \\\n",
       "0            842     0          2.2         0   1       0           7    0.6   \n",
       "1           1021     1          0.5         1   0       1          53    0.7   \n",
       "2            563     1          0.5         1   2       1          41    0.9   \n",
       "3            615     1          2.5         0   0       0          10    0.8   \n",
       "4           1821     1          1.2         0  13       1          44    0.6   \n",
       "\n",
       "   mobile_wt  n_cores  ...  px_height  px_width   ram  sc_h  sc_w  talk_time  \\\n",
       "0        188        2  ...         20       756  2549     9     7         19   \n",
       "1        136        3  ...        905      1988  2631    17     3          7   \n",
       "2        145        5  ...       1263      1716  2603    11     2          9   \n",
       "3        131        6  ...       1216      1786  2769    16     8         11   \n",
       "4        141        2  ...       1208      1212  1411     8     2         15   \n",
       "\n",
       "   three_g  touch_screen  wifi  price_range  \n",
       "0        0             0     1            1  \n",
       "1        1             1     0            2  \n",
       "2        1             1     0            2  \n",
       "3        1             0     0            2  \n",
       "4        1             1     0            1  \n",
       "\n",
       "[5 rows x 21 columns]"
      ]
     },
     "execution_count": 2,
     "metadata": {},
     "output_type": "execute_result"
    }
   ],
   "source": [
    "# TODO: Read in data.csv using .read_csv() and store in a variable df\n",
    "df =  pd.read_csv(\"data.csv\")\n",
    "# TODO: preview your df using .head()\n",
    "df.head()"
   ]
  },
  {
   "cell_type": "code",
   "execution_count": 3,
   "metadata": {},
   "outputs": [
    {
     "data": {
      "text/html": [
       "<div>\n",
       "<style scoped>\n",
       "    .dataframe tbody tr th:only-of-type {\n",
       "        vertical-align: middle;\n",
       "    }\n",
       "\n",
       "    .dataframe tbody tr th {\n",
       "        vertical-align: top;\n",
       "    }\n",
       "\n",
       "    .dataframe thead th {\n",
       "        text-align: right;\n",
       "    }\n",
       "</style>\n",
       "<table border=\"1\" class=\"dataframe\">\n",
       "  <thead>\n",
       "    <tr style=\"text-align: right;\">\n",
       "      <th></th>\n",
       "      <th>battery_power</th>\n",
       "      <th>blue</th>\n",
       "      <th>clock_speed</th>\n",
       "      <th>dual_sim</th>\n",
       "      <th>fc</th>\n",
       "      <th>four_g</th>\n",
       "      <th>int_memory</th>\n",
       "      <th>m_dep</th>\n",
       "      <th>mobile_wt</th>\n",
       "      <th>n_cores</th>\n",
       "      <th>pc</th>\n",
       "      <th>px_height</th>\n",
       "      <th>px_width</th>\n",
       "      <th>ram</th>\n",
       "      <th>sc_h</th>\n",
       "      <th>sc_w</th>\n",
       "      <th>talk_time</th>\n",
       "      <th>three_g</th>\n",
       "      <th>touch_screen</th>\n",
       "      <th>wifi</th>\n",
       "    </tr>\n",
       "  </thead>\n",
       "  <tbody>\n",
       "    <tr>\n",
       "      <th>0</th>\n",
       "      <td>842</td>\n",
       "      <td>0</td>\n",
       "      <td>2.2</td>\n",
       "      <td>0</td>\n",
       "      <td>1</td>\n",
       "      <td>0</td>\n",
       "      <td>7</td>\n",
       "      <td>0.6</td>\n",
       "      <td>188</td>\n",
       "      <td>2</td>\n",
       "      <td>2</td>\n",
       "      <td>20</td>\n",
       "      <td>756</td>\n",
       "      <td>2549</td>\n",
       "      <td>9</td>\n",
       "      <td>7</td>\n",
       "      <td>19</td>\n",
       "      <td>0</td>\n",
       "      <td>0</td>\n",
       "      <td>1</td>\n",
       "    </tr>\n",
       "    <tr>\n",
       "      <th>1</th>\n",
       "      <td>1021</td>\n",
       "      <td>1</td>\n",
       "      <td>0.5</td>\n",
       "      <td>1</td>\n",
       "      <td>0</td>\n",
       "      <td>1</td>\n",
       "      <td>53</td>\n",
       "      <td>0.7</td>\n",
       "      <td>136</td>\n",
       "      <td>3</td>\n",
       "      <td>6</td>\n",
       "      <td>905</td>\n",
       "      <td>1988</td>\n",
       "      <td>2631</td>\n",
       "      <td>17</td>\n",
       "      <td>3</td>\n",
       "      <td>7</td>\n",
       "      <td>1</td>\n",
       "      <td>1</td>\n",
       "      <td>0</td>\n",
       "    </tr>\n",
       "    <tr>\n",
       "      <th>2</th>\n",
       "      <td>563</td>\n",
       "      <td>1</td>\n",
       "      <td>0.5</td>\n",
       "      <td>1</td>\n",
       "      <td>2</td>\n",
       "      <td>1</td>\n",
       "      <td>41</td>\n",
       "      <td>0.9</td>\n",
       "      <td>145</td>\n",
       "      <td>5</td>\n",
       "      <td>6</td>\n",
       "      <td>1263</td>\n",
       "      <td>1716</td>\n",
       "      <td>2603</td>\n",
       "      <td>11</td>\n",
       "      <td>2</td>\n",
       "      <td>9</td>\n",
       "      <td>1</td>\n",
       "      <td>1</td>\n",
       "      <td>0</td>\n",
       "    </tr>\n",
       "    <tr>\n",
       "      <th>3</th>\n",
       "      <td>615</td>\n",
       "      <td>1</td>\n",
       "      <td>2.5</td>\n",
       "      <td>0</td>\n",
       "      <td>0</td>\n",
       "      <td>0</td>\n",
       "      <td>10</td>\n",
       "      <td>0.8</td>\n",
       "      <td>131</td>\n",
       "      <td>6</td>\n",
       "      <td>9</td>\n",
       "      <td>1216</td>\n",
       "      <td>1786</td>\n",
       "      <td>2769</td>\n",
       "      <td>16</td>\n",
       "      <td>8</td>\n",
       "      <td>11</td>\n",
       "      <td>1</td>\n",
       "      <td>0</td>\n",
       "      <td>0</td>\n",
       "    </tr>\n",
       "    <tr>\n",
       "      <th>4</th>\n",
       "      <td>1821</td>\n",
       "      <td>1</td>\n",
       "      <td>1.2</td>\n",
       "      <td>0</td>\n",
       "      <td>13</td>\n",
       "      <td>1</td>\n",
       "      <td>44</td>\n",
       "      <td>0.6</td>\n",
       "      <td>141</td>\n",
       "      <td>2</td>\n",
       "      <td>14</td>\n",
       "      <td>1208</td>\n",
       "      <td>1212</td>\n",
       "      <td>1411</td>\n",
       "      <td>8</td>\n",
       "      <td>2</td>\n",
       "      <td>15</td>\n",
       "      <td>1</td>\n",
       "      <td>1</td>\n",
       "      <td>0</td>\n",
       "    </tr>\n",
       "  </tbody>\n",
       "</table>\n",
       "</div>"
      ],
      "text/plain": [
       "   battery_power  blue  clock_speed  dual_sim  fc  four_g  int_memory  m_dep  \\\n",
       "0            842     0          2.2         0   1       0           7    0.6   \n",
       "1           1021     1          0.5         1   0       1          53    0.7   \n",
       "2            563     1          0.5         1   2       1          41    0.9   \n",
       "3            615     1          2.5         0   0       0          10    0.8   \n",
       "4           1821     1          1.2         0  13       1          44    0.6   \n",
       "\n",
       "   mobile_wt  n_cores  pc  px_height  px_width   ram  sc_h  sc_w  talk_time  \\\n",
       "0        188        2   2         20       756  2549     9     7         19   \n",
       "1        136        3   6        905      1988  2631    17     3          7   \n",
       "2        145        5   6       1263      1716  2603    11     2          9   \n",
       "3        131        6   9       1216      1786  2769    16     8         11   \n",
       "4        141        2  14       1208      1212  1411     8     2         15   \n",
       "\n",
       "   three_g  touch_screen  wifi  \n",
       "0        0             0     1  \n",
       "1        1             1     0  \n",
       "2        1             1     0  \n",
       "3        1             0     0  \n",
       "4        1             1     0  "
      ]
     },
     "execution_count": 3,
     "metadata": {},
     "output_type": "execute_result"
    }
   ],
   "source": [
    "# TODO: Create `y` by selecting the \"price_range\" column of df\n",
    "y_data = df[\"price_range\"]\n",
    "# TODO: Create `X` by dropping the \"price_range\" column of df\n",
    "x_data = df.drop(columns=[\"price_range\"])\n",
    "x_data.head()"
   ]
  },
  {
   "cell_type": "code",
   "execution_count": 4,
   "metadata": {},
   "outputs": [],
   "source": [
    "# TODO: Use train_test_split() to split your data into training and testing datasets\n",
    "x_train, x_test, y_train, y_test = train_test_split(x_data,y_data)"
   ]
  },
  {
   "cell_type": "markdown",
   "metadata": {},
   "source": [
    "### Model, Fit, Predict\n",
    "\n",
    "Next, we'll put our model together!\n",
    "- Instantiate a RandomForestClassifier with 5000 estimators, and store as a variable `model`\n",
    "- `.fit()` your model using your training data\n",
    "- Create the `y_pred` variable by using your model to predict the results for `X_test`\n",
    "- Print your `classification_report()`, passing `y_test` and `y_pred` as arguments"
   ]
  },
  {
   "cell_type": "code",
   "execution_count": 5,
   "metadata": {},
   "outputs": [],
   "source": [
    "# TODO: instantiate RandomForestClassifier and store it to a variable called model\n",
    "model = RandomForestClassifier(5000)"
   ]
  },
  {
   "cell_type": "code",
   "execution_count": 6,
   "metadata": {},
   "outputs": [
    {
     "data": {
      "text/plain": [
       "RandomForestClassifier(n_estimators=5000)"
      ]
     },
     "execution_count": 6,
     "metadata": {},
     "output_type": "execute_result"
    }
   ],
   "source": [
    "# TODO: fit your model using the training data\n",
    "model.fit(x_train, y_train)"
   ]
  },
  {
   "cell_type": "code",
   "execution_count": 7,
   "metadata": {},
   "outputs": [
    {
     "data": {
      "text/plain": [
       "array([0, 0, 0, 3, 1, 0, 1, 1, 0, 1, 3, 1, 2, 2, 1, 0, 2, 2, 2, 3, 2, 2,\n",
       "       1, 1, 2, 2, 3, 3, 2, 0, 0, 2, 1, 0, 1, 2, 1, 0, 2, 1, 1, 1, 3, 3,\n",
       "       0, 2, 2, 0, 0, 1, 1, 3, 0, 1, 0, 3, 3, 0, 3, 1, 0, 1, 2, 0, 3, 3,\n",
       "       0, 0, 1, 2, 3, 1, 1, 2, 0, 0, 2, 2, 2, 2, 2, 2, 1, 0, 1, 3, 1, 0,\n",
       "       0, 3, 2, 0, 3, 1, 1, 1, 3, 0, 3, 0, 1, 3, 0, 0, 2, 0, 1, 2, 2, 3,\n",
       "       3, 1, 2, 1, 0, 0, 0, 0, 3, 2, 2, 1, 2, 1, 1, 2, 2, 3, 2, 0, 3, 1,\n",
       "       3, 3, 1, 0, 1, 3, 1, 0, 1, 1, 3, 1, 0, 3, 2, 2, 0, 3, 3, 0, 2, 0,\n",
       "       0, 3, 0, 0, 0, 2, 1, 0, 1, 2, 1, 2, 2, 1, 1, 3, 2, 2, 0, 0, 3, 3,\n",
       "       2, 2, 3, 0, 1, 0, 2, 0, 3, 1, 2, 3, 3, 2, 3, 0, 1, 1, 1, 0, 0, 2,\n",
       "       1, 2, 0, 3, 1, 2, 3, 2, 0, 2, 3, 2, 3, 0, 3, 1, 2, 2, 1, 2, 2, 1,\n",
       "       0, 0, 0, 2, 1, 2, 1, 1, 1, 1, 1, 3, 0, 1, 3, 3, 3, 3, 0, 2, 3, 2,\n",
       "       1, 0, 3, 2, 1, 3, 0, 0, 0, 2, 1, 2, 1, 3, 3, 3, 1, 0, 3, 3, 3, 0,\n",
       "       1, 0, 2, 1, 2, 3, 3, 3, 1, 2, 2, 0, 3, 1, 2, 3, 1, 1, 3, 2, 3, 0,\n",
       "       2, 3, 0, 3, 3, 0, 0, 2, 1, 2, 1, 2, 1, 1, 3, 1, 3, 1, 1, 3, 3, 1,\n",
       "       3, 2, 1, 3, 1, 3, 1, 3, 0, 0, 1, 1, 3, 0, 0, 2, 3, 2, 0, 1, 3, 0,\n",
       "       0, 1, 0, 2, 0, 1, 1, 3, 0, 2, 2, 1, 0, 1, 3, 3, 2, 3, 2, 3, 3, 1,\n",
       "       3, 1, 0, 0, 0, 2, 2, 1, 2, 1, 3, 2, 1, 2, 2, 0, 0, 1, 3, 3, 2, 1,\n",
       "       0, 0, 2, 2, 1, 2, 1, 2, 2, 0, 3, 1, 0, 2, 1, 0, 2, 3, 1, 1, 0, 2,\n",
       "       1, 3, 3, 1, 0, 0, 3, 3, 0, 3, 2, 1, 2, 3, 0, 0, 0, 3, 0, 3, 3, 1,\n",
       "       0, 3, 2, 0, 2, 2, 2, 1, 0, 1, 2, 0, 3, 3, 0, 0, 3, 0, 0, 3, 2, 1,\n",
       "       2, 3, 2, 1, 2, 1, 0, 3, 3, 1, 1, 3, 0, 1, 3, 3, 0, 3, 0, 0, 2, 0,\n",
       "       3, 0, 3, 3, 1, 2, 2, 2, 0, 2, 3, 0, 2, 0, 2, 2, 3, 1, 1, 1, 0, 3,\n",
       "       0, 0, 2, 2, 0, 0, 0, 1, 1, 3, 0, 1, 1, 3, 2, 1])"
      ]
     },
     "execution_count": 7,
     "metadata": {},
     "output_type": "execute_result"
    }
   ],
   "source": [
    "# TODO: predict the values for X_test\n",
    "y_pred = model.predict(x_test)\n",
    "y_pred"
   ]
  },
  {
   "cell_type": "code",
   "execution_count": 8,
   "metadata": {},
   "outputs": [
    {
     "name": "stdout",
     "output_type": "stream",
     "text": [
      "              precision    recall  f1-score   support\n",
      "\n",
      "           0       0.91      0.91      0.91       128\n",
      "           1       0.83      0.82      0.82       129\n",
      "           2       0.81      0.84      0.83       116\n",
      "           3       0.94      0.91      0.92       127\n",
      "\n",
      "    accuracy                           0.87       500\n",
      "   macro avg       0.87      0.87      0.87       500\n",
      "weighted avg       0.87      0.87      0.87       500\n",
      "\n"
     ]
    }
   ],
   "source": [
    "# TODO: print the classification report using y_test and y_pred\n",
    "print(classification_report(y_test, y_pred))"
   ]
  },
  {
   "cell_type": "markdown",
   "metadata": {},
   "source": [
    "What is the overall accuracy of your model? If it is very high (above 80%) or very low (below 20%) do you think there is a reason for that level of accuracy?\n",
    "> The over all accuracy in the model is 0.90 which is very high and above 80%. I belive the reason for the accuracy is because the overall model found high accurances in the data findings.  "
   ]
  },
  {
   "cell_type": "markdown",
   "metadata": {},
   "source": [
    "### Feature importances\n",
    "How important is each one of our features? We can use this analysis to help the engineering team to determine which features are important to design well for our prototypes.\n",
    "\n",
    "- Create the `feature_importances` variable by using python's `zip()` function on the `X_train`'s columns and the `.feature_importances_` proprerty on your `model`.\n",
    "- Create `list_importances` by casting the `feature_importances` as a list using the `list()` function. Warning: **Do not simply place `feature_importances` in a set of brackets []. That will not work in this case**\n",
    "- Make a DataFrame `importance_df` using `pd.DataFrame` on `list_importances`, and make sure to asign column names for \"feature\" and \"importance\"\n",
    "- Sort `importance_df` using `.sort_values()` on the \"importance column, and set the `ascending` argument to False, and the `inplace` argument to True\n",
    "- Preview the top 5 most important features using `.head()`\n",
    "- Preview the 5 least important features using `.tail()`"
   ]
  },
  {
   "cell_type": "code",
   "execution_count": 9,
   "metadata": {},
   "outputs": [
    {
     "data": {
      "text/html": [
       "<div>\n",
       "<style scoped>\n",
       "    .dataframe tbody tr th:only-of-type {\n",
       "        vertical-align: middle;\n",
       "    }\n",
       "\n",
       "    .dataframe tbody tr th {\n",
       "        vertical-align: top;\n",
       "    }\n",
       "\n",
       "    .dataframe thead th {\n",
       "        text-align: right;\n",
       "    }\n",
       "</style>\n",
       "<table border=\"1\" class=\"dataframe\">\n",
       "  <thead>\n",
       "    <tr style=\"text-align: right;\">\n",
       "      <th></th>\n",
       "      <th>feature</th>\n",
       "      <th>importance</th>\n",
       "    </tr>\n",
       "  </thead>\n",
       "  <tbody>\n",
       "    <tr>\n",
       "      <th>13</th>\n",
       "      <td>ram</td>\n",
       "      <td>0.476000</td>\n",
       "    </tr>\n",
       "    <tr>\n",
       "      <th>0</th>\n",
       "      <td>battery_power</td>\n",
       "      <td>0.072972</td>\n",
       "    </tr>\n",
       "    <tr>\n",
       "      <th>12</th>\n",
       "      <td>px_width</td>\n",
       "      <td>0.056434</td>\n",
       "    </tr>\n",
       "    <tr>\n",
       "      <th>11</th>\n",
       "      <td>px_height</td>\n",
       "      <td>0.054101</td>\n",
       "    </tr>\n",
       "    <tr>\n",
       "      <th>8</th>\n",
       "      <td>mobile_wt</td>\n",
       "      <td>0.041036</td>\n",
       "    </tr>\n",
       "  </tbody>\n",
       "</table>\n",
       "</div>"
      ],
      "text/plain": [
       "          feature  importance\n",
       "13            ram    0.476000\n",
       "0   battery_power    0.072972\n",
       "12       px_width    0.056434\n",
       "11      px_height    0.054101\n",
       "8       mobile_wt    0.041036"
      ]
     },
     "execution_count": 9,
     "metadata": {},
     "output_type": "execute_result"
    }
   ],
   "source": [
    "# TODO: zip() the X_train's columns and the model's .feature_importances_ together\n",
    "feature_importances = zip(x_train.columns, model.feature_importances_)\n",
    "# TODO: cast feature_importances as a list using the list() function, and store the result as list_importances\n",
    "list_importances = list(feature_importances)\n",
    "# TODO: cast list_importances as a dataframe, making sure to set the columns to be \"feature\" and \"importance\", store the result as importance_df\n",
    "importance_df = pd.DataFrame(list_importances, columns=[\"feature\", \"importance\"])\n",
    "# TODO: sort the values of importance_df by the \"importance\" column in descending order. Either set the argument inplace to true, or reassign importance_df back to itself\n",
    "importance_df.sort_values(\"importance\", ascending=False, inplace=True)\n",
    "# TODO: preview importance_df using .head()\n",
    "importance_df.head(5)"
   ]
  },
  {
   "cell_type": "code",
   "execution_count": 10,
   "metadata": {},
   "outputs": [
    {
     "data": {
      "text/html": [
       "<div>\n",
       "<style scoped>\n",
       "    .dataframe tbody tr th:only-of-type {\n",
       "        vertical-align: middle;\n",
       "    }\n",
       "\n",
       "    .dataframe tbody tr th {\n",
       "        vertical-align: top;\n",
       "    }\n",
       "\n",
       "    .dataframe thead th {\n",
       "        text-align: right;\n",
       "    }\n",
       "</style>\n",
       "<table border=\"1\" class=\"dataframe\">\n",
       "  <thead>\n",
       "    <tr style=\"text-align: right;\">\n",
       "      <th></th>\n",
       "      <th>feature</th>\n",
       "      <th>importance</th>\n",
       "    </tr>\n",
       "  </thead>\n",
       "  <tbody>\n",
       "    <tr>\n",
       "      <th>3</th>\n",
       "      <td>dual_sim</td>\n",
       "      <td>0.007141</td>\n",
       "    </tr>\n",
       "    <tr>\n",
       "      <th>19</th>\n",
       "      <td>wifi</td>\n",
       "      <td>0.006819</td>\n",
       "    </tr>\n",
       "    <tr>\n",
       "      <th>5</th>\n",
       "      <td>four_g</td>\n",
       "      <td>0.006659</td>\n",
       "    </tr>\n",
       "    <tr>\n",
       "      <th>1</th>\n",
       "      <td>blue</td>\n",
       "      <td>0.006513</td>\n",
       "    </tr>\n",
       "    <tr>\n",
       "      <th>17</th>\n",
       "      <td>three_g</td>\n",
       "      <td>0.005846</td>\n",
       "    </tr>\n",
       "  </tbody>\n",
       "</table>\n",
       "</div>"
      ],
      "text/plain": [
       "     feature  importance\n",
       "3   dual_sim    0.007141\n",
       "19      wifi    0.006819\n",
       "5     four_g    0.006659\n",
       "1       blue    0.006513\n",
       "17   three_g    0.005846"
      ]
     },
     "execution_count": 10,
     "metadata": {},
     "output_type": "execute_result"
    }
   ],
   "source": [
    "# TODO: preview importance_df using .tail()\n",
    "importance_df.tail(5)"
   ]
  },
  {
   "cell_type": "markdown",
   "metadata": {},
   "source": [
    "What were the five most important features to your model?\n",
    "> ram, battery_power, px_width, px_height, mobile_wt\n",
    "\n",
    "Why do you think those are the most important? Do any of those surprise you? \n",
    "> I would like to think that talk time would be important as well but it didnt seem to be important in my findings. \n",
    "\n",
    "What were the five least impactful features to the model?\n",
    ">  Dual_slim, wifi, four_g, blue, three_g\n",
    "\n",
    "Why do you think those are _less_ important than other features? Are any of them surprising? Hint: consider how a lack of product differentiation makes it difficult to add additional value to a product.\n",
    "> I was suprised that touch screens was part of the less important features in the list. \n",
    "\n",
    "Of the two sets of five most and least important features, are any of them _overwhelmingly_ more or less important than others in the same category?\n",
    "> I think three_g is the least important feauture because the three_g are slow and don't bring any value. \n",
    "\n",
    "Based on what you have learned about the most and least important features, what would you recommend to the engineering team to focus on in their designs?\n",
    "> I would recommend the engineering team to consentrate on having the best ram with a good battery power. \n",
    "\n",
    "If your engineering team were to completely remove the five features that had the least importance, would you be happy with the product? Why or why not?\n",
    "> Yes I would be happy because I would still have good feature like ram and a good battery. \n",
    "\n",
    "Given your previous answer, what does that tell you about business decisions made _purely_ by arguments with data?\n",
    "> I think that data can help a business decision on what is most important based on data findings. "
   ]
  },
  {
   "cell_type": "markdown",
   "metadata": {},
   "source": [
    "## A Second Opinion: SVC\n",
    "\n",
    "Now that we have created a model using the Random Forest, and have gathered which features are most important, let's build a second model to see if we can get one that is even more accurate!"
   ]
  },
  {
   "cell_type": "markdown",
   "metadata": {},
   "source": [
    "### Model, Fit, Predict II: Now with more prediction!\n",
    "\n",
    "In our next steps, we will create our SVC model to compare with our Random Forest. \n",
    "\n",
    "- Instantiate a new model `svc` using SVC() from sklearn\n",
    "- Fit the model using our `X_train` and `y_train` from before\n",
    "- Create an array `svc_results` using `.predict()` on our `X_test` data \n",
    "- Print the `classification_report()` using `y_test` and our `svc_results`"
   ]
  },
  {
   "cell_type": "code",
   "execution_count": 11,
   "metadata": {},
   "outputs": [],
   "source": [
    "# Provided Code -- Do NOT Edit!\n",
    "from sklearn.svm import SVC"
   ]
  },
  {
   "cell_type": "code",
   "execution_count": 12,
   "metadata": {},
   "outputs": [],
   "source": [
    "# TODO: instantiate SVC() and store to a variable svc\n",
    "svc = SVC()"
   ]
  },
  {
   "cell_type": "code",
   "execution_count": 13,
   "metadata": {},
   "outputs": [
    {
     "data": {
      "text/plain": [
       "SVC()"
      ]
     },
     "execution_count": 13,
     "metadata": {},
     "output_type": "execute_result"
    }
   ],
   "source": [
    "# TODO: fit svc using the training data\n",
    "svc.fit(x_train, y_train)"
   ]
  },
  {
   "cell_type": "code",
   "execution_count": 14,
   "metadata": {},
   "outputs": [
    {
     "data": {
      "text/plain": [
       "array([0, 0, 0, 3, 1, 0, 1, 1, 0, 1, 3, 1, 1, 2, 1, 0, 2, 2, 2, 3, 2, 1,\n",
       "       1, 1, 2, 2, 3, 2, 2, 0, 0, 2, 1, 0, 1, 2, 1, 0, 2, 1, 1, 1, 3, 2,\n",
       "       0, 1, 2, 0, 0, 1, 1, 3, 0, 0, 0, 3, 3, 0, 3, 1, 0, 1, 2, 0, 3, 3,\n",
       "       0, 0, 1, 2, 3, 1, 1, 2, 1, 0, 2, 2, 2, 2, 2, 1, 1, 0, 0, 3, 1, 0,\n",
       "       0, 3, 3, 0, 3, 1, 1, 2, 3, 0, 3, 0, 1, 3, 0, 0, 3, 0, 1, 2, 3, 3,\n",
       "       3, 1, 2, 1, 0, 0, 0, 0, 3, 2, 2, 1, 2, 1, 1, 1, 2, 3, 2, 1, 3, 1,\n",
       "       3, 3, 1, 0, 1, 3, 1, 0, 1, 1, 3, 0, 0, 3, 2, 2, 0, 3, 3, 0, 2, 0,\n",
       "       0, 3, 1, 0, 0, 2, 1, 0, 1, 2, 1, 2, 2, 1, 0, 3, 2, 2, 0, 0, 3, 3,\n",
       "       2, 2, 3, 1, 1, 0, 2, 0, 3, 1, 2, 3, 3, 2, 3, 0, 1, 1, 1, 0, 0, 2,\n",
       "       1, 2, 1, 3, 1, 2, 3, 2, 0, 2, 3, 2, 3, 0, 3, 1, 3, 2, 1, 2, 2, 1,\n",
       "       0, 0, 0, 2, 1, 1, 1, 1, 1, 1, 1, 3, 0, 1, 3, 3, 3, 3, 0, 3, 3, 2,\n",
       "       1, 0, 3, 2, 2, 3, 0, 0, 0, 2, 1, 2, 1, 3, 3, 3, 1, 0, 3, 3, 3, 0,\n",
       "       1, 0, 2, 1, 2, 3, 3, 3, 1, 1, 2, 1, 3, 1, 1, 3, 1, 1, 3, 2, 3, 0,\n",
       "       2, 3, 0, 3, 3, 0, 0, 2, 1, 2, 1, 2, 1, 1, 3, 1, 3, 1, 1, 3, 3, 1,\n",
       "       3, 2, 1, 3, 1, 3, 1, 3, 0, 0, 1, 1, 3, 0, 0, 2, 3, 2, 0, 2, 3, 0,\n",
       "       0, 1, 0, 2, 0, 1, 1, 3, 0, 2, 1, 1, 0, 1, 3, 3, 3, 3, 2, 3, 2, 1,\n",
       "       3, 1, 0, 0, 0, 2, 2, 1, 2, 1, 3, 2, 1, 2, 2, 0, 1, 2, 3, 3, 3, 1,\n",
       "       0, 0, 2, 2, 1, 2, 2, 2, 2, 0, 3, 1, 0, 2, 1, 0, 1, 3, 0, 1, 0, 2,\n",
       "       1, 3, 3, 1, 0, 0, 3, 3, 0, 3, 2, 1, 2, 3, 0, 0, 0, 3, 0, 3, 3, 1,\n",
       "       0, 3, 2, 0, 2, 2, 2, 1, 0, 1, 2, 0, 3, 3, 0, 0, 3, 0, 0, 3, 2, 1,\n",
       "       1, 3, 2, 1, 1, 1, 0, 3, 3, 1, 1, 3, 0, 1, 3, 3, 0, 3, 0, 0, 2, 0,\n",
       "       3, 0, 3, 3, 1, 3, 2, 3, 0, 2, 2, 0, 2, 0, 2, 2, 3, 1, 1, 1, 0, 3,\n",
       "       0, 0, 2, 2, 0, 1, 0, 0, 1, 3, 0, 1, 1, 3, 2, 2])"
      ]
     },
     "execution_count": 14,
     "metadata": {},
     "output_type": "execute_result"
    }
   ],
   "source": [
    "# TODO: make predictions on the test feature data using svc, and store the result to svc_results\n",
    "svc_results = svc.predict(x_test) \n",
    "svc_results"
   ]
  },
  {
   "cell_type": "code",
   "execution_count": 15,
   "metadata": {},
   "outputs": [
    {
     "name": "stdout",
     "output_type": "stream",
     "text": [
      "              precision    recall  f1-score   support\n",
      "\n",
      "           0       0.96      0.95      0.96       128\n",
      "           1       0.90      0.95      0.93       129\n",
      "           2       0.96      0.91      0.94       116\n",
      "           3       0.98      0.98      0.98       127\n",
      "\n",
      "    accuracy                           0.95       500\n",
      "   macro avg       0.95      0.95      0.95       500\n",
      "weighted avg       0.95      0.95      0.95       500\n",
      "\n"
     ]
    }
   ],
   "source": [
    "# TODO: print the classification report using y_test and svc_results\n",
    "print(classification_report(y_test,svc_results))"
   ]
  },
  {
   "cell_type": "markdown",
   "metadata": {},
   "source": [
    "How Accurate is your SVC model?\n",
    "> The svc model is about 0.95 accurante which is over 80% in accurancy. \n",
    "\n",
    "Is it \"better\" or \"worse\" than your Random Forest model?\n",
    "> Based on the results it is worse than the Random Forest model."
   ]
  },
  {
   "cell_type": "markdown",
   "metadata": {},
   "source": [
    "## Perceptively Predicting Prototypes\n"
   ]
  },
  {
   "cell_type": "markdown",
   "metadata": {},
   "source": [
    "Finally, let's make some predictions about our prototypes!\n",
    "\n",
    "- Import the `prototypes.csv` dataset from the data folder and store as `prototypes_df`\n",
    "- Preview prototypes_df using `.head()`\n",
    "- Use your trained Random Forest and SVC models, to make predictions, and store into to `forest_prototypes` and `svc_prototypes`, respectively.\n",
    "- Print `forest_prototypes` and `svc_prototypes`"
   ]
  },
  {
   "cell_type": "code",
   "execution_count": 16,
   "metadata": {},
   "outputs": [
    {
     "data": {
      "text/html": [
       "<div>\n",
       "<style scoped>\n",
       "    .dataframe tbody tr th:only-of-type {\n",
       "        vertical-align: middle;\n",
       "    }\n",
       "\n",
       "    .dataframe tbody tr th {\n",
       "        vertical-align: top;\n",
       "    }\n",
       "\n",
       "    .dataframe thead th {\n",
       "        text-align: right;\n",
       "    }\n",
       "</style>\n",
       "<table border=\"1\" class=\"dataframe\">\n",
       "  <thead>\n",
       "    <tr style=\"text-align: right;\">\n",
       "      <th></th>\n",
       "      <th>battery_power</th>\n",
       "      <th>blue</th>\n",
       "      <th>clock_speed</th>\n",
       "      <th>dual_sim</th>\n",
       "      <th>fc</th>\n",
       "      <th>four_g</th>\n",
       "      <th>int_memory</th>\n",
       "      <th>m_dep</th>\n",
       "      <th>mobile_wt</th>\n",
       "      <th>n_cores</th>\n",
       "      <th>pc</th>\n",
       "      <th>px_height</th>\n",
       "      <th>px_width</th>\n",
       "      <th>ram</th>\n",
       "      <th>sc_h</th>\n",
       "      <th>sc_w</th>\n",
       "      <th>talk_time</th>\n",
       "      <th>three_g</th>\n",
       "      <th>touch_screen</th>\n",
       "      <th>wifi</th>\n",
       "    </tr>\n",
       "  </thead>\n",
       "  <tbody>\n",
       "    <tr>\n",
       "      <th>0</th>\n",
       "      <td>1859</td>\n",
       "      <td>0</td>\n",
       "      <td>0.5</td>\n",
       "      <td>1</td>\n",
       "      <td>3</td>\n",
       "      <td>0</td>\n",
       "      <td>22</td>\n",
       "      <td>0.7</td>\n",
       "      <td>164</td>\n",
       "      <td>1</td>\n",
       "      <td>7</td>\n",
       "      <td>1004</td>\n",
       "      <td>1654</td>\n",
       "      <td>1067</td>\n",
       "      <td>17</td>\n",
       "      <td>1</td>\n",
       "      <td>10</td>\n",
       "      <td>1</td>\n",
       "      <td>0</td>\n",
       "      <td>0</td>\n",
       "    </tr>\n",
       "    <tr>\n",
       "      <th>1</th>\n",
       "      <td>503</td>\n",
       "      <td>0</td>\n",
       "      <td>1.2</td>\n",
       "      <td>1</td>\n",
       "      <td>5</td>\n",
       "      <td>1</td>\n",
       "      <td>8</td>\n",
       "      <td>0.4</td>\n",
       "      <td>111</td>\n",
       "      <td>3</td>\n",
       "      <td>13</td>\n",
       "      <td>201</td>\n",
       "      <td>1245</td>\n",
       "      <td>2583</td>\n",
       "      <td>11</td>\n",
       "      <td>0</td>\n",
       "      <td>12</td>\n",
       "      <td>1</td>\n",
       "      <td>0</td>\n",
       "      <td>0</td>\n",
       "    </tr>\n",
       "    <tr>\n",
       "      <th>2</th>\n",
       "      <td>1195</td>\n",
       "      <td>1</td>\n",
       "      <td>2.8</td>\n",
       "      <td>0</td>\n",
       "      <td>1</td>\n",
       "      <td>1</td>\n",
       "      <td>20</td>\n",
       "      <td>0.8</td>\n",
       "      <td>110</td>\n",
       "      <td>2</td>\n",
       "      <td>14</td>\n",
       "      <td>1580</td>\n",
       "      <td>1652</td>\n",
       "      <td>504</td>\n",
       "      <td>9</td>\n",
       "      <td>3</td>\n",
       "      <td>12</td>\n",
       "      <td>1</td>\n",
       "      <td>1</td>\n",
       "      <td>0</td>\n",
       "    </tr>\n",
       "  </tbody>\n",
       "</table>\n",
       "</div>"
      ],
      "text/plain": [
       "   battery_power  blue  clock_speed  dual_sim  fc  four_g  int_memory  m_dep  \\\n",
       "0           1859     0          0.5         1   3       0          22    0.7   \n",
       "1            503     0          1.2         1   5       1           8    0.4   \n",
       "2           1195     1          2.8         0   1       1          20    0.8   \n",
       "\n",
       "   mobile_wt  n_cores  pc  px_height  px_width   ram  sc_h  sc_w  talk_time  \\\n",
       "0        164        1   7       1004      1654  1067    17     1         10   \n",
       "1        111        3  13        201      1245  2583    11     0         12   \n",
       "2        110        2  14       1580      1652   504     9     3         12   \n",
       "\n",
       "   three_g  touch_screen  wifi  \n",
       "0        1             0     0  \n",
       "1        1             0     0  \n",
       "2        1             1     0  "
      ]
     },
     "execution_count": 16,
     "metadata": {},
     "output_type": "execute_result"
    }
   ],
   "source": [
    "# TODO: import the prototype data using .read_csv()\n",
    "prototypes_df = pd.read_csv(\"prototypes.csv\")\n",
    "# TODO: preview the data using .head()\n",
    "prototypes_df.head()"
   ]
  },
  {
   "cell_type": "code",
   "execution_count": 17,
   "metadata": {},
   "outputs": [],
   "source": [
    "# TODO: use the `model` from before to predict price ranges on your prototype data and store to a variable forest_prototypes\n",
    "forest_prototypes = model.predict(prototypes_df)\n",
    "# TODO: use the `svc` model from before to predict price ranges on your prototype data and store to a variable svc_prototypes\n",
    "svc_prototypes = svc.predict(prototypes_df)"
   ]
  },
  {
   "cell_type": "code",
   "execution_count": 18,
   "metadata": {},
   "outputs": [
    {
     "data": {
      "text/plain": [
       "array([1, 2, 0])"
      ]
     },
     "execution_count": 18,
     "metadata": {},
     "output_type": "execute_result"
    }
   ],
   "source": [
    "# TODO: print forest_prototypes\n",
    "forest_prototypes"
   ]
  },
  {
   "cell_type": "code",
   "execution_count": 19,
   "metadata": {},
   "outputs": [
    {
     "data": {
      "text/plain": [
       "array([1, 1, 0])"
      ]
     },
     "execution_count": 19,
     "metadata": {},
     "output_type": "execute_result"
    }
   ],
   "source": [
    "# TODO: print svc_prototypes\n",
    "svc_prototypes"
   ]
  },
  {
   "cell_type": "markdown",
   "metadata": {},
   "source": [
    "Do your models agree on pricing for all three phones?\n",
    "> No, the findings in the model show that it does not agree to have the same arrays but have similar findings of 1 and 0. \n",
    "\n",
    "What would be your recommendation to the team that will create pricing for this phone?\n",
    "> I would recommend that they consider all the top five feautures and the pricing to stay between 600 to 1200 dollars for the company to make more profitable prototypes. "
   ]
  },
  {
   "cell_type": "markdown",
   "metadata": {},
   "source": []
  }
 ],
 "metadata": {
  "interpreter": {
   "hash": "a8383eef294e6eb532b9a275f580f77018a4c5ddf6bd4ca154421d62e44b7362"
  },
  "kernelspec": {
   "display_name": "Python 3 (ipykernel)",
   "language": "python",
   "name": "python3"
  },
  "language_info": {
   "codemirror_mode": {
    "name": "ipython",
    "version": 3
   },
   "file_extension": ".py",
   "mimetype": "text/x-python",
   "name": "python",
   "nbconvert_exporter": "python",
   "pygments_lexer": "ipython3",
   "version": "3.9.12"
  }
 },
 "nbformat": 4,
 "nbformat_minor": 2
}
